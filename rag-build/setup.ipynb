{
 "cells": [
  {
   "cell_type": "markdown",
   "metadata": {},
   "source": [
    "# Data Processing\n"
   ]
  },
  {
   "cell_type": "code",
   "execution_count": 14,
   "metadata": {},
   "outputs": [],
   "source": [
    "# %pip install datasets\n",
    "# %pip install psycopg2\n",
    "import pandas as pd\n",
    "\n",
    "\n",
    "import psycopg2\n",
    "import json\n"
   ]
  },
  {
   "cell_type": "code",
   "execution_count": null,
   "metadata": {},
   "outputs": [],
   "source": [
    "rag_df = pd.read_csv(\"hf://datasets/Sachinkelenjaguri/Resume_dataset/UpdatedResumeDataSet.csv\")\n"
   ]
  },
  {
   "cell_type": "markdown",
   "metadata": {},
   "source": [
    "**This makes the dataset smaller by selecting Tech orientated job categories. This will reduce the time to vectorise the data and makes the AI Agent more focused on a specific sector. Ideal for CV and Cover letter reviews / generation.**\n"
   ]
  },
  {
   "cell_type": "code",
   "execution_count": null,
   "metadata": {},
   "outputs": [],
   "source": [
    "roles = [\n",
    "    'Data Science', 'Web Designing', \n",
    "    'Java Developer', 'Automation Testing',\n",
    "    'Operations Manager', 'Python Developer',\n",
    "    'DevOps Engineer', 'Network Security Engineer',\n",
    "    'Database', 'DotNet Developer',\n",
    "    'Testing', 'Blockchain'\n",
    "]\n",
    "rag_df = rag_df[rag_df['Category'].isin(roles)]\n",
    "rag_df\n"
   ]
  },
  {
   "cell_type": "code",
   "execution_count": null,
   "metadata": {
    "vscode": {
     "languageId": "sql"
    }
   },
   "outputs": [],
   "source": [
    "-- Ensure the table exists before vectorizing\n",
    "DROP TABLE IF EXISTS resumes_1;\n",
    "\n",
    "CREATE TABLE resumes_1 (\n",
    "    id SERIAL PRIMARY KEY,\n",
    "    category TEXT NOT NULL,\n",
    "    content TEXT NOT NULL,\n",
    "    metadata JSONB\n",
    ");\n",
    "\n",
    "-- Create the vectorizer using AI functions\n",
    "\n",
    "SELECT ai.create_vectorizer(   \n",
    "    'resumes_1'::regclass,\n",
    "    formatting => ai.formatting_python_template('Job Role: $category\\n\\nCV:\\n$chunk'),\n",
    "    embedding => ai.embedding_ollama('deepseek-r1:7b', 3584),\n",
    "    chunking => ai.chunking_recursive_character_text_splitter('content'),\n",
    "    destination => 'resume_1_embedding'\n",
    ");"
   ]
  },
  {
   "cell_type": "code",
   "execution_count": null,
   "metadata": {},
   "outputs": [],
   "source": [
    "DB_PARAMS = {\n",
    "    \"dbname\": \"postgres\",\n",
    "    \"user\": \"postgres\",\n",
    "    \"password\": \"postgres\",\n",
    "    \"host\": \"localhost\",\n",
    "    \"port\": \"5432\" \n",
    "}\n",
    "\n",
    "\n",
    "# Function to insert data\n",
    "def insert_data(df):\n",
    "    try:\n",
    "        # Connect to PostgreSQL\n",
    "        conn = psycopg2.connect(**DB_PARAMS)\n",
    "        cur = conn.cursor()\n",
    "        \n",
    "        # Insert each row into the database\n",
    "        for _, row in df.iterrows():\n",
    "            category = row['Category']\n",
    "            content = row['Resume']\n",
    "            metadata = json.dumps({\"source\": \"uploaded_resume\"})  # Example metadata\n",
    "\n",
    "            cur.execute(\"\"\"\n",
    "                INSERT INTO resumes_1 (category, content, metadata)\n",
    "                VALUES (%s, %s, %s)\n",
    "            \"\"\", (category, content, metadata))\n",
    "\n",
    "        # Commit changes\n",
    "        conn.commit()\n",
    "        print(\"Data inserted successfully.\")\n",
    "\n",
    "    except Exception as e:\n",
    "        print(\"Error:\", e)\n",
    "    finally:\n",
    "        cur.close()\n",
    "        conn.close()\n",
    "\n",
    "# Call the function to insert data\n",
    "insert_data(rag_df)\n"
   ]
  },
  {
   "cell_type": "code",
   "execution_count": null,
   "metadata": {},
   "outputs": [],
   "source": [
    "big_df = pd.read_csv(\"hf://datasets/opensporks/resumes/Resume/Resume.csv\")\n"
   ]
  },
  {
   "cell_type": "code",
   "execution_count": null,
   "metadata": {},
   "outputs": [],
   "source": [
    "massive_df = pd.read_csv(\"hf://datasets/InferencePrince555/Resume-Dataset/updated_data_final_cleaned.csv\")\n"
   ]
  },
  {
   "cell_type": "markdown",
   "metadata": {},
   "source": [
    "### RAG Function"
   ]
  },
  {
   "cell_type": "code",
   "execution_count": null,
   "metadata": {
    "vscode": {
     "languageId": "sql"
    }
   },
   "outputs": [],
   "source": [
    "CREATE OR REPLACE FUNCTION generate_rag_response(query_text TEXT)\n",
    "RETURNS TEXT AS $$\n",
    "DECLARE\n",
    "   context_chunks TEXT;\n",
    "   response TEXT;\n",
    "BEGIN\n",
    "   -- Perform similarity search to find relevant resumes\n",
    "   SELECT string_agg(category || ': ' || chunk, E'\\n') INTO context_chunks\n",
    "   FROM\n",
    "   (\n",
    "       SELECT category, chunk\n",
    "       FROM resume_1_embedding\n",
    "       ORDER BY embedding <=> ai.ollama_embed('deepseek-r1:7b', query_text)\n",
    "       LIMIT 3\n",
    "   ) AS relevant_posts;\n",
    "\n",
    "   -- Generate a summary using llama3\n",
    "   SELECT ai.ollama_chat_complete\n",
    "   ( 'deepseek-r1:7b'\n",
    "   , jsonb_build_array\n",
    "     ( jsonb_build_object('role', 'system', 'content', 'you are a helpful assistant')\n",
    "     , jsonb_build_object\n",
    "       ('role', 'user'\n",
    "       , 'content', query_text || E'\\nUse the following context to respond.\\n' || context_chunks\n",
    "       )\n",
    "     )\n",
    "   )->'message'->>'content' INTO response;\n",
    "\n",
    "   RETURN response;\n",
    "END;\n",
    "$$ LANGUAGE plpgsql;"
   ]
  }
 ],
 "metadata": {
  "kernelspec": {
   "display_name": ".venv",
   "language": "python",
   "name": "python3"
  },
  "language_info": {
   "codemirror_mode": {
    "name": "ipython",
    "version": 3
   },
   "file_extension": ".py",
   "mimetype": "text/x-python",
   "name": "python",
   "nbconvert_exporter": "python",
   "pygments_lexer": "ipython3",
   "version": "3.12.4"
  }
 },
 "nbformat": 4,
 "nbformat_minor": 2
}
