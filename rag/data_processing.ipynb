{
 "cells": [
  {
   "cell_type": "markdown",
   "metadata": {},
   "source": [
    "# Data Processing\n"
   ]
  },
  {
   "cell_type": "code",
   "execution_count": 14,
   "metadata": {},
   "outputs": [],
   "source": [
    "# %pip install datasets\n",
    "# %pip install psycopg2\n",
    "import pandas as pd\n",
    "\n",
    "\n",
    "import psycopg2\n",
    "import json\n"
   ]
  },
  {
   "cell_type": "code",
   "execution_count": null,
   "metadata": {},
   "outputs": [],
   "source": [
    "small_df = pd.read_csv(\"hf://datasets/Sachinkelenjaguri/Resume_dataset/UpdatedResumeDataSet.csv\")\n"
   ]
  },
  {
   "cell_type": "code",
   "execution_count": 12,
   "metadata": {},
   "outputs": [
    {
     "data": {
      "text/html": [
       "<div>\n",
       "<style scoped>\n",
       "    .dataframe tbody tr th:only-of-type {\n",
       "        vertical-align: middle;\n",
       "    }\n",
       "\n",
       "    .dataframe tbody tr th {\n",
       "        vertical-align: top;\n",
       "    }\n",
       "\n",
       "    .dataframe thead th {\n",
       "        text-align: right;\n",
       "    }\n",
       "</style>\n",
       "<table border=\"1\" class=\"dataframe\">\n",
       "  <thead>\n",
       "    <tr style=\"text-align: right;\">\n",
       "      <th></th>\n",
       "      <th>Category</th>\n",
       "      <th>Resume</th>\n",
       "    </tr>\n",
       "  </thead>\n",
       "  <tbody>\n",
       "    <tr>\n",
       "      <th>0</th>\n",
       "      <td>Data Science</td>\n",
       "      <td>Skills * Programming Languages: Python (pandas...</td>\n",
       "    </tr>\n",
       "    <tr>\n",
       "      <th>1</th>\n",
       "      <td>Data Science</td>\n",
       "      <td>Education Details \\nMay 2013 to May 2017 B.E  ...</td>\n",
       "    </tr>\n",
       "    <tr>\n",
       "      <th>2</th>\n",
       "      <td>Data Science</td>\n",
       "      <td>Areas of Interest Deep Learning, Control Syste...</td>\n",
       "    </tr>\n",
       "    <tr>\n",
       "      <th>3</th>\n",
       "      <td>Data Science</td>\n",
       "      <td>Skills â¢ R â¢ Python â¢ SAP HANA â¢ Table...</td>\n",
       "    </tr>\n",
       "    <tr>\n",
       "      <th>4</th>\n",
       "      <td>Data Science</td>\n",
       "      <td>Education Details \\n MCA   YMCAUST,  Faridabad...</td>\n",
       "    </tr>\n",
       "    <tr>\n",
       "      <th>...</th>\n",
       "      <td>...</td>\n",
       "      <td>...</td>\n",
       "    </tr>\n",
       "    <tr>\n",
       "      <th>957</th>\n",
       "      <td>Testing</td>\n",
       "      <td>Computer Skills: â¢ Proficient in MS office (...</td>\n",
       "    </tr>\n",
       "    <tr>\n",
       "      <th>958</th>\n",
       "      <td>Testing</td>\n",
       "      <td>â Willingness to accept the challenges. â ...</td>\n",
       "    </tr>\n",
       "    <tr>\n",
       "      <th>959</th>\n",
       "      <td>Testing</td>\n",
       "      <td>PERSONAL SKILLS â¢ Quick learner, â¢ Eagerne...</td>\n",
       "    </tr>\n",
       "    <tr>\n",
       "      <th>960</th>\n",
       "      <td>Testing</td>\n",
       "      <td>COMPUTER SKILLS &amp; SOFTWARE KNOWLEDGE MS-Power ...</td>\n",
       "    </tr>\n",
       "    <tr>\n",
       "      <th>961</th>\n",
       "      <td>Testing</td>\n",
       "      <td>Skill Set OS Windows XP/7/8/8.1/10 Database MY...</td>\n",
       "    </tr>\n",
       "  </tbody>\n",
       "</table>\n",
       "<p>534 rows × 2 columns</p>\n",
       "</div>"
      ],
      "text/plain": [
       "         Category                                             Resume\n",
       "0    Data Science  Skills * Programming Languages: Python (pandas...\n",
       "1    Data Science  Education Details \\nMay 2013 to May 2017 B.E  ...\n",
       "2    Data Science  Areas of Interest Deep Learning, Control Syste...\n",
       "3    Data Science  Skills â¢ R â¢ Python â¢ SAP HANA â¢ Table...\n",
       "4    Data Science  Education Details \\n MCA   YMCAUST,  Faridabad...\n",
       "..            ...                                                ...\n",
       "957       Testing  Computer Skills: â¢ Proficient in MS office (...\n",
       "958       Testing  â Willingness to accept the challenges. â ...\n",
       "959       Testing  PERSONAL SKILLS â¢ Quick learner, â¢ Eagerne...\n",
       "960       Testing  COMPUTER SKILLS & SOFTWARE KNOWLEDGE MS-Power ...\n",
       "961       Testing  Skill Set OS Windows XP/7/8/8.1/10 Database MY...\n",
       "\n",
       "[534 rows x 2 columns]"
      ]
     },
     "execution_count": 12,
     "metadata": {},
     "output_type": "execute_result"
    }
   ],
   "source": [
    "roles = [\n",
    "    'Data Science', 'Web Designing', \n",
    "    'Java Developer', 'Automation Testing',\n",
    "    'Operations Manager', 'Python Developer',\n",
    "    'DevOps Engineer', 'Network Security Engineer',\n",
    "    'Database', 'DotNet Developer',\n",
    "    'Testing', 'Blockchain'\n",
    "]\n",
    "small_df = small_df[small_df['Category'].isin(roles)]\n",
    "small_df\n"
   ]
  },
  {
   "cell_type": "code",
   "execution_count": null,
   "metadata": {
    "vscode": {
     "languageId": "sql"
    }
   },
   "outputs": [],
   "source": [
    "-- Ensure the table exists before vectorizing\n",
    "DROP TABLE IF EXISTS resumes_1;\n",
    "\n",
    "CREATE TABLE resumes_1 (\n",
    "    id SERIAL PRIMARY KEY,\n",
    "    category TEXT NOT NULL,\n",
    "    content TEXT NOT NULL,\n",
    "    metadata JSONB\n",
    ");\n",
    "\n",
    "-- Create the vectorizer using AI functions\n",
    "\n",
    "SELECT ai.create_vectorizer(   \n",
    "    'resumes_1'::regclass,\n",
    "    formatting => ai.formatting_python_template('Job Role: $category\\n\\nCV:\\n$chunk'),\n",
    "    embedding => ai.embedding_ollama('deepseek-r1:7b', 3584),\n",
    "    chunking => ai.chunking_recursive_character_text_splitter('content'),\n",
    "    destination => 'resume_1_embedding'\n",
    ");"
   ]
  },
  {
   "cell_type": "code",
   "execution_count": 15,
   "metadata": {},
   "outputs": [
    {
     "name": "stdout",
     "output_type": "stream",
     "text": [
      "Data inserted successfully.\n"
     ]
    }
   ],
   "source": [
    "DB_PARAMS = {\n",
    "    \"dbname\": \"postgres\",\n",
    "    \"user\": \"postgres\",\n",
    "    \"password\": \"postgres\",\n",
    "    \"host\": \"localhost\",\n",
    "    \"port\": \"5432\" \n",
    "}\n",
    "\n",
    "\n",
    "# Function to insert data\n",
    "def insert_data(df):\n",
    "    try:\n",
    "        # Connect to PostgreSQL\n",
    "        conn = psycopg2.connect(**DB_PARAMS)\n",
    "        cur = conn.cursor()\n",
    "        \n",
    "        # Insert each row into the database\n",
    "        for _, row in df.iterrows():\n",
    "            category = row['Category']\n",
    "            content = row['Resume']\n",
    "            metadata = json.dumps({\"source\": \"uploaded_resume\"})  # Example metadata\n",
    "\n",
    "            cur.execute(\"\"\"\n",
    "                INSERT INTO resumes_1 (category, content, metadata)\n",
    "                VALUES (%s, %s, %s)\n",
    "            \"\"\", (category, content, metadata))\n",
    "\n",
    "        # Commit changes\n",
    "        conn.commit()\n",
    "        print(\"Data inserted successfully.\")\n",
    "\n",
    "    except Exception as e:\n",
    "        print(\"Error:\", e)\n",
    "    finally:\n",
    "        cur.close()\n",
    "        conn.close()\n",
    "\n",
    "# Call the function to insert data\n",
    "insert_data(small_df)\n"
   ]
  },
  {
   "cell_type": "code",
   "execution_count": null,
   "metadata": {},
   "outputs": [],
   "source": [
    "big_df = pd.read_csv(\"hf://datasets/opensporks/resumes/Resume/Resume.csv\")\n"
   ]
  },
  {
   "cell_type": "code",
   "execution_count": null,
   "metadata": {},
   "outputs": [],
   "source": [
    "massive_df = pd.read_csv(\"hf://datasets/InferencePrince555/Resume-Dataset/updated_data_final_cleaned.csv\")\n"
   ]
  },
  {
   "cell_type": "code",
   "execution_count": 1,
   "metadata": {
    "vscode": {
     "languageId": "sql"
    }
   },
   "outputs": [
    {
     "ename": "SyntaxError",
     "evalue": "invalid syntax (1555296760.py, line 1)",
     "output_type": "error",
     "traceback": [
      "\u001b[1;36m  Cell \u001b[1;32mIn[1], line 1\u001b[1;36m\u001b[0m\n\u001b[1;33m    CREATE OR REPLACE FUNCTION generate_rag_response(query_text TEXT)\u001b[0m\n\u001b[1;37m           ^\u001b[0m\n\u001b[1;31mSyntaxError\u001b[0m\u001b[1;31m:\u001b[0m invalid syntax\n"
     ]
    }
   ],
   "source": [
    "CREATE OR REPLACE FUNCTION generate_rag_response(query_text TEXT)\n",
    "RETURNS TEXT AS $$\n",
    "DECLARE\n",
    "   context_chunks TEXT;\n",
    "   response TEXT;\n",
    "BEGIN\n",
    "   -- Perform similarity search to find relevant resumes\n",
    "   SELECT string_agg(category || ': ' || chunk, E'\\n') INTO context_chunks\n",
    "   FROM\n",
    "   (\n",
    "       SELECT category, chunk\n",
    "       FROM resume_1_embedding\n",
    "       ORDER BY embedding <=> ai.ollama_embed('deepseek-r1:7b', query_text)\n",
    "       LIMIT 3\n",
    "   ) AS relevant_posts;\n",
    "\n",
    "   -- Generate a summary using llama3\n",
    "   SELECT ai.ollama_chat_complete\n",
    "   ( 'deepseek-r1:7b'\n",
    "   , jsonb_build_array\n",
    "     ( jsonb_build_object('role', 'system', 'content', 'you are a helpful assistant')\n",
    "     , jsonb_build_object\n",
    "       ('role', 'user'\n",
    "       , 'content', query_text || E'\\nUse the following context to respond.\\n' || context_chunks\n",
    "       )\n",
    "     )\n",
    "   )->'message'->>'content' INTO response;\n",
    "\n",
    "   RETURN response;\n",
    "END;\n",
    "$$ LANGUAGE plpgsql;"
   ]
  }
 ],
 "metadata": {
  "kernelspec": {
   "display_name": ".venv",
   "language": "python",
   "name": "python3"
  },
  "language_info": {
   "codemirror_mode": {
    "name": "ipython",
    "version": 3
   },
   "file_extension": ".py",
   "mimetype": "text/x-python",
   "name": "python",
   "nbconvert_exporter": "python",
   "pygments_lexer": "ipython3",
   "version": "3.12.4"
  }
 },
 "nbformat": 4,
 "nbformat_minor": 2
}
